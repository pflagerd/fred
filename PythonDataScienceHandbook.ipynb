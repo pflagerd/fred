{
 "cells": [
  {
   "cell_type": "code",
   "execution_count": 6,
   "id": "46024732",
   "metadata": {},
   "outputs": [
    {
     "name": "stdout",
     "output_type": "stream",
     "text": [
      "/home/oy753c/tmp/PythonDataScienceHandbook/notebooks_v1\n"
     ]
    }
   ],
   "source": [
    "cd /home/oy753c/tmp/PythonDataScienceHandbook/notebooks_v1\n"
   ]
  },
  {
   "cell_type": "code",
   "execution_count": 7,
   "id": "c10a85ce",
   "metadata": {},
   "outputs": [
    {
     "name": "stdout",
     "output_type": "stream",
     "text": [
      "00.00-Preface.ipynb\r\n",
      "01.00-IPython-Beyond-Normal-Python.ipynb\r\n",
      "01.01-Help-And-Documentation.ipynb\r\n",
      "01.02-Shell-Keyboard-Shortcuts.ipynb\r\n",
      "01.03-Magic-Commands.ipynb\r\n",
      "01.04-Input-Output-History.ipynb\r\n",
      "01.05-IPython-And-Shell-Commands.ipynb\r\n",
      "01.06-Errors-and-Debugging.ipynb\r\n",
      "01.07-Timing-and-Profiling.ipynb\r\n",
      "01.08-More-IPython-Resources.ipynb\r\n",
      "02.00-Introduction-to-NumPy.ipynb\r\n",
      "02.01-Understanding-Data-Types.ipynb\r\n",
      "02.02-The-Basics-Of-NumPy-Arrays.ipynb\r\n",
      "02.03-Computation-on-arrays-ufuncs.ipynb\r\n",
      "02.04-Computation-on-arrays-aggregates.ipynb\r\n",
      "02.05-Computation-on-arrays-broadcasting.ipynb\r\n",
      "02.06-Boolean-Arrays-and-Masks.ipynb\r\n",
      "02.07-Fancy-Indexing.ipynb\r\n",
      "02.08-Sorting.ipynb\r\n",
      "02.09-Structured-Data-NumPy.ipynb\r\n",
      "03.00-Introduction-to-Pandas.ipynb\r\n",
      "03.01-Introducing-Pandas-Objects.ipynb\r\n",
      "03.02-Data-Indexing-and-Selection.ipynb\r\n",
      "03.03-Operations-in-Pandas.ipynb\r\n",
      "03.04-Missing-Values.ipynb\r\n",
      "03.05-Hierarchical-Indexing.ipynb\r\n",
      "03.06-Concat-And-Append.ipynb\r\n",
      "03.07-Merge-and-Join.ipynb\r\n",
      "03.08-Aggregation-and-Grouping.ipynb\r\n",
      "03.09-Pivot-Tables.ipynb\r\n",
      "03.10-Working-With-Strings.ipynb\r\n",
      "03.11-Working-with-Time-Series.ipynb\r\n",
      "03.12-Performance-Eval-and-Query.ipynb\r\n",
      "03.13-Further-Resources.ipynb\r\n",
      "04.00-Introduction-To-Matplotlib.ipynb\r\n",
      "04.01-Simple-Line-Plots.ipynb\r\n",
      "04.02-Simple-Scatter-Plots.ipynb\r\n",
      "04.03-Errorbars.ipynb\r\n",
      "04.04-Density-and-Contour-Plots.ipynb\r\n",
      "04.05-Histograms-and-Binnings.ipynb\r\n",
      "04.06-Customizing-Legends.ipynb\r\n",
      "04.07-Customizing-Colorbars.ipynb\r\n",
      "04.08-Multiple-Subplots.ipynb\r\n",
      "04.09-Text-and-Annotation.ipynb\r\n",
      "04.10-Customizing-Ticks.ipynb\r\n",
      "04.11-Settings-and-Stylesheets.ipynb\r\n",
      "04.12-Three-Dimensional-Plotting.ipynb\r\n",
      "04.13-Geographic-Data-With-Basemap.ipynb\r\n",
      "04.14-Visualization-With-Seaborn.ipynb\r\n",
      "04.15-Further-Resources.ipynb\r\n",
      "05.00-Machine-Learning.ipynb\r\n",
      "05.01-What-Is-Machine-Learning.ipynb\r\n",
      "05.02-Introducing-Scikit-Learn.ipynb\r\n",
      "05.03-Hyperparameters-and-Model-Validation.ipynb\r\n",
      "05.04-Feature-Engineering.ipynb\r\n",
      "05.05-Naive-Bayes.ipynb\r\n",
      "05.06-Linear-Regression.ipynb\r\n",
      "05.07-Support-Vector-Machines.ipynb\r\n",
      "05.08-Random-Forests.ipynb\r\n",
      "05.09-Principal-Component-Analysis.ipynb\r\n",
      "05.10-Manifold-Learning.ipynb\r\n",
      "05.11-K-Means.ipynb\r\n",
      "05.12-Gaussian-Mixtures.ipynb\r\n",
      "05.13-Kernel-Density-Estimation.ipynb\r\n",
      "05.14-Image-Features.ipynb\r\n",
      "05.15-Learning-More.ipynb\r\n",
      "06.00-Figure-Code.ipynb\r\n",
      "\u001b[0m\u001b[01;34mdata\u001b[0m/\r\n",
      "\u001b[01;34mfigures\u001b[0m/\r\n",
      "helpers_05_08.py\r\n",
      "Index.ipynb\r\n",
      "thing.py\r\n",
      "Untitled.ipynb\r\n"
     ]
    }
   ],
   "source": [
    "ls"
   ]
  },
  {
   "cell_type": "code",
   "execution_count": null,
   "id": "eed24dd9",
   "metadata": {},
   "outputs": [],
   "source": []
  }
 ],
 "metadata": {
  "kernelspec": {
   "display_name": "Python 3 (ipykernel)",
   "language": "python",
   "name": "python3"
  },
  "language_info": {
   "codemirror_mode": {
    "name": "ipython",
    "version": 3
   },
   "file_extension": ".py",
   "mimetype": "text/x-python",
   "name": "python",
   "nbconvert_exporter": "python",
   "pygments_lexer": "ipython3",
   "version": "3.10.12"
  }
 },
 "nbformat": 4,
 "nbformat_minor": 5
}
